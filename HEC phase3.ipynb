{
 "cells": [
  {
   "cell_type": "code",
   "execution_count": null,
   "id": "adedf219",
   "metadata": {},
   "outputs": [],
   "source": [
    "import pandas as pd\n",
    "import numpy as np\n",
    "import seaborn as sns\n",
    "import matplotlib.pyplot as plt\n",
    "#from fbprophet import Prophet\n",
    "from sklearn.metrics import mean_squared_error, mean_absolute_error\n",
    "plt.style.use('fivethirtyeight')"
   ]
  },
  {
   "cell_type": "code",
   "execution_count": null,
   "id": "d96fe4d2",
   "metadata": {},
   "outputs": [],
   "source": [
    "pjme = pd.read_csv('PJME_hourly.csv', index_col = [0], parse_dates = [0])"
   ]
  },
  {
   "cell_type": "code",
   "execution_count": null,
   "id": "0b0ff001",
   "metadata": {},
   "outputs": [],
   "source": [
    "pjme.head()"
   ]
  },
  {
   "cell_type": "code",
   "execution_count": null,
   "id": "5a1c9550",
   "metadata": {},
   "outputs": [],
   "source": [
    "pjme.plot(style = '.' , color = \"red\", figsize = (15,5), title = \"PJM East\");"
   ]
  },
  {
   "cell_type": "code",
   "execution_count": null,
   "id": "2537deff",
   "metadata": {},
   "outputs": [],
   "source": [
    "pjme['date'] = pjme.index\n",
    "pjme['hour'] = pjme['date'].dt.hour\n",
    "pjme['dayofweek'] = pjme['date'].dt.dayofweek\n",
    "pjme['quarter'] = pjme['date'].dt.quarter\n",
    "pjme['month'] = pjme['date'].dt.month\n",
    "pjme['year'] = pjme['date'].dt.year\n",
    "pjme['dayofyear'] = pjme['date'].dt.dayofyear\n",
    "pjme['dayofmonth'] = pjme['date'].dt.day\n",
    "pjme['weekofyear'] = pjme['date'].dt.weekofyear\n",
    "pjme.drop(['date'], axis = 1, inplace=True)"
   ]
  },
  {
   "cell_type": "code",
   "execution_count": null,
   "id": "7cc5b9e0",
   "metadata": {},
   "outputs": [],
   "source": [
    "pjme.head()"
   ]
  },
  {
   "cell_type": "code",
   "execution_count": null,
   "id": "58aa5441",
   "metadata": {},
   "outputs": [],
   "source": [
    "pjme.isna().sum(axis = 0)"
   ]
  },
  {
   "cell_type": "code",
   "execution_count": null,
   "id": "cfdb826c",
   "metadata": {},
   "outputs": [],
   "source": [
    "sns.scatterplot('hour','PJME_MW', data=pjme)"
   ]
  },
  {
   "cell_type": "code",
   "execution_count": null,
   "id": "de483264",
   "metadata": {},
   "outputs": [],
   "source": [
    "sns.scatterplot('dayofweek','PJME_MW', data=pjme)"
   ]
  },
  {
   "cell_type": "code",
   "execution_count": null,
   "id": "782c5e28",
   "metadata": {},
   "outputs": [],
   "source": [
    "sns.scatterplot('month','PJME_MW', data=pjme)"
   ]
  },
  {
   "cell_type": "code",
   "execution_count": null,
   "id": "2fcad3d5",
   "metadata": {},
   "outputs": [],
   "source": [
    "sns.scatterplot('year','PJME_MW', data=pjme)\n",
    "plt.xticks(rotation = 'vertical')"
   ]
  },
  {
   "cell_type": "code",
   "execution_count": null,
   "id": "2d74a900",
   "metadata": {},
   "outputs": [],
   "source": [
    "sns.scatterplot('weekofyear','PJME_MW', data=pjme)"
   ]
  },
  {
   "cell_type": "code",
   "execution_count": null,
   "id": "e6161ee1",
   "metadata": {},
   "outputs": [],
   "source": [
    "pjme_train = pjme.loc[pjme.year < 2015]\n",
    "pjme_test = pjme.loc[pjme.year >= 2015]"
   ]
  },
  {
   "cell_type": "code",
   "execution_count": null,
   "id": "722ae7e8",
   "metadata": {},
   "outputs": [],
   "source": [
    "pjme_train.tail()"
   ]
  },
  {
   "cell_type": "code",
   "execution_count": null,
   "id": "3c4d464a",
   "metadata": {},
   "outputs": [],
   "source": [
    "pjme_test.head()"
   ]
  },
  {
   "cell_type": "code",
   "execution_count": null,
   "id": "1ea64a18",
   "metadata": {},
   "outputs": [],
   "source": [
    "(pjme_train.rename(columns={'PJME_MW': 'TRAINING SET'})).append(pjme_test.rename(columns={'PJME_MW': 'TEST SET'}), sort = False)[['TRAINING SET','TEST SET']].plot(style='.', figsize = (15,5), title = \"PJM East\");"
   ]
  },
  {
   "cell_type": "code",
   "execution_count": null,
   "id": "ccd78310",
   "metadata": {},
   "outputs": [],
   "source": [
    "x_train = pjme_train[['hour','dayofweek','quarter','month','year',\n",
    "           'dayofyear','dayofmonth','weekofyear']]\n",
    "x_test = pjme_test[['hour','dayofweek','quarter','month','year',\n",
    "           'dayofyear','dayofmonth','weekofyear']]\n",
    "y_train = pjme_train[['PJME_MW']]\n",
    "y_test = pjme_test[['PJME_MW']]"
   ]
  },
  {
   "cell_type": "code",
   "execution_count": null,
   "id": "e14f5d5b",
   "metadata": {},
   "outputs": [],
   "source": [
    "import xgboost as xgb\n",
    "from xgboost import plot_importance, plot_tree"
   ]
  },
  {
   "cell_type": "code",
   "execution_count": null,
   "id": "b6bf7d8e",
   "metadata": {},
   "outputs": [],
   "source": [
    "reg = xgb.XGBRegressor(n_estimators=1000)\n",
    "reg.fit(x_train, y_train,\n",
    "       eval_set = [(x_train, y_train), (x_test, y_test)],\n",
    "        early_stopping_rounds=50,\n",
    "       verbose=False)"
   ]
  },
  {
   "cell_type": "code",
   "execution_count": null,
   "id": "7e3a58db",
   "metadata": {},
   "outputs": [],
   "source": [
    "plot_importance(reg, height = 0.5)"
   ]
  },
  {
   "cell_type": "code",
   "execution_count": null,
   "id": "296ee337",
   "metadata": {},
   "outputs": [],
   "source": [
    "pjme_all[['PJME_MW','MW_Prediction']].plot(figsize=(15, 5))"
   ]
  },
  {
   "cell_type": "code",
   "execution_count": null,
   "id": "2addf23e",
   "metadata": {},
   "outputs": [],
   "source": [
    "_, ax = plt.subplots(1)\n",
    "pjme_all[['MW_Prediction','PJME_MW']].plot(ax=ax, style=['-','.'],figsize=(15, 5))\n",
    "ax.set_xbound(lower='01-01-2015', upper='02-01-2015')"
   ]
  },
  {
   "cell_type": "code",
   "execution_count": null,
   "id": "a0e39f09",
   "metadata": {},
   "outputs": [],
   "source": [
    "_, ax = plt.subplots(1)\n",
    "pjme_all[['MW_Prediction','PJME_MW']].plot(ax=ax, style=['-','.'],figsize=(15, 5))\n",
    "ax.set_xbound(lower='01-01-2015', upper='01-08-2015')"
   ]
  },
  {
   "cell_type": "code",
   "execution_count": null,
   "id": "04242458",
   "metadata": {},
   "outputs": [],
   "source": [
    "_, ax = plt.subplots(1)\n",
    "pjme_all[['MW_Prediction','PJME_MW']].plot(ax=ax, style=['-','.'],figsize=(15, 5))\n",
    "ax.set_xbound(lower='07-01-2015', upper='07-08-2015')"
   ]
  },
  {
   "cell_type": "code",
   "execution_count": null,
   "id": "6cc01960",
   "metadata": {},
   "outputs": [],
   "source": [
    "mean_squared_error(y_true=pjme_test['PJME_MW'],\n",
    "                   y_pred=pjme_test['MW_Prediction'])"
   ]
  },
  {
   "cell_type": "code",
   "execution_count": null,
   "id": "1e5083f9",
   "metadata": {},
   "outputs": [],
   "source": [
    "mean_absolute_error(y_true=pjme_test['PJME_MW'],\n",
    "                   y_pred=pjme_test['MW_Prediction'])"
   ]
  },
  {
   "cell_type": "code",
   "execution_count": null,
   "id": "122bb980",
   "metadata": {},
   "outputs": [],
   "source": [
    "def mean_absolute_percentage_error(y_true, y_pred): \n",
    "    \"\"\"Calculates MAPE given y_true and y_pred\"\"\"\n",
    "    y_true, y_pred = np.array(y_true), np.array(y_pred)\n",
    "    return np.mean(np.abs((y_true - y_pred) / y_true)) * 100\n",
    "\n",
    "mean_absolute_percentage_error(y_true=pjme_test['PJME_MW'],\n",
    "                   y_pred=pjme_test['MW_Prediction'])"
   ]
  },
  {
   "cell_type": "code",
   "execution_count": null,
   "id": "a1f87d73",
   "metadata": {},
   "outputs": [],
   "source": [
    "error_by_day = pjme_test.groupby(['year','month','dayofmonth']).mean()[['PJME_MW','MW_Prediction','error','abs_error']]"
   ]
  },
  {
   "cell_type": "code",
   "execution_count": null,
   "id": "de2e06d7",
   "metadata": {},
   "outputs": [],
   "source": [
    "error_by_day.head(10)"
   ]
  },
  {
   "cell_type": "code",
   "execution_count": null,
   "id": "7a92f3a7",
   "metadata": {},
   "outputs": [],
   "source": [
    "error_by_day.sort_values('error', ascending=True).head(10)"
   ]
  },
  {
   "cell_type": "code",
   "execution_count": null,
   "id": "b962770d",
   "metadata": {},
   "outputs": [],
   "source": [
    "error_by_day.sort_values('abs_error', ascending=False).head(10)"
   ]
  },
  {
   "cell_type": "code",
   "execution_count": null,
   "id": "fba86f4b",
   "metadata": {},
   "outputs": [],
   "source": [
    "error_by_day.sort_values('abs_error', ascending=True).head(10)"
   ]
  },
  {
   "cell_type": "code",
   "execution_count": null,
   "id": "d8f22bd4",
   "metadata": {},
   "outputs": [],
   "source": [
    "_, ax = plt.subplots(1)\n",
    "pjme_all[['PJME_MW','MW_Prediction']].plot(ax=ax, style=['.','-'])\n",
    "ax.set_xbound(lower='08-13-2016', upper='08-14-2016')\n",
    "plot = plt.suptitle('Aug 13, 2016 - Worst Predicted Day')"
   ]
  },
  {
   "cell_type": "code",
   "execution_count": null,
   "id": "4a0fba45",
   "metadata": {},
   "outputs": [],
   "source": [
    "_, ax = plt.subplots(1)\n",
    "pjme_all[['PJME_MW','MW_Prediction']].plot(ax=ax, style=['.','-'])\n",
    "ax.set_xbound(lower='10-03-2016', upper='10-04-2016')\n",
    "plot = plt.suptitle('Oct 3, 2016 - Best Predicted Day')"
   ]
  }
 ],
 "metadata": {
  "kernelspec": {
   "display_name": "Python 3 (ipykernel)",
   "language": "python",
   "name": "python3"
  }
 },
 "nbformat": 4,
 "nbformat_minor": 5
}
